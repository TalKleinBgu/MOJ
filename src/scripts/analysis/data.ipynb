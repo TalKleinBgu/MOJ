{
 "cells": [
  {
   "cell_type": "code",
   "execution_count": 1,
   "metadata": {},
   "outputs": [],
   "source": [
    "import pandas as pd"
   ]
  },
  {
   "cell_type": "code",
   "execution_count": 21,
   "metadata": {},
   "outputs": [
    {
     "data": {
      "text/html": [
       "<div>\n",
       "<style scoped>\n",
       "    .dataframe tbody tr th:only-of-type {\n",
       "        vertical-align: middle;\n",
       "    }\n",
       "\n",
       "    .dataframe tbody tr th {\n",
       "        vertical-align: top;\n",
       "    }\n",
       "\n",
       "    .dataframe thead th {\n",
       "        text-align: right;\n",
       "    }\n",
       "</style>\n",
       "<table border=\"1\" class=\"dataframe\">\n",
       "  <thead>\n",
       "    <tr style=\"text-align: right;\">\n",
       "      <th></th>\n",
       "      <th>Unnamed: 0.1</th>\n",
       "      <th>Unnamed: 0</th>\n",
       "      <th>verdict</th>\n",
       "      <th>text</th>\n",
       "      <th>reject</th>\n",
       "      <th>CONFESSION</th>\n",
       "      <th>CIR_TYPE_WEP</th>\n",
       "      <th>CIR_HELD_WAY_WEP</th>\n",
       "      <th>CIR_AMMU_AMOUNT_WEP</th>\n",
       "      <th>CIR_PURPOSE</th>\n",
       "      <th>...</th>\n",
       "      <th>CIR_STATUS_WEP</th>\n",
       "      <th>REGRET</th>\n",
       "      <th>PUNISHMENT</th>\n",
       "      <th>CIRCUM_OFFENSE</th>\n",
       "      <th>CIR_PLANNING</th>\n",
       "      <th>RESPO</th>\n",
       "      <th>CIR_OBTAIN_WAY_WEP</th>\n",
       "      <th>CIR_USE</th>\n",
       "      <th>CIR_BUYER_ID_WEP</th>\n",
       "      <th>CIR_MONEY_PAID_WEP</th>\n",
       "    </tr>\n",
       "  </thead>\n",
       "  <tbody>\n",
       "    <tr>\n",
       "      <th>0</th>\n",
       "      <td>0</td>\n",
       "      <td>1</td>\n",
       "      <td>ME-12-05-33444-999_tagged</td>\n",
       "      <td>ע\"י ב\"כ עוה\"ד אבירי – פמ\"מ</td>\n",
       "      <td>1</td>\n",
       "      <td>0</td>\n",
       "      <td>0</td>\n",
       "      <td>0</td>\n",
       "      <td>0</td>\n",
       "      <td>0</td>\n",
       "      <td>...</td>\n",
       "      <td>0</td>\n",
       "      <td>0</td>\n",
       "      <td>0</td>\n",
       "      <td>0</td>\n",
       "      <td>0</td>\n",
       "      <td>0</td>\n",
       "      <td>0</td>\n",
       "      <td>0.0</td>\n",
       "      <td>NaN</td>\n",
       "      <td>NaN</td>\n",
       "    </tr>\n",
       "    <tr>\n",
       "      <th>1</th>\n",
       "      <td>1</td>\n",
       "      <td>2</td>\n",
       "      <td>ME-12-05-33444-999_tagged</td>\n",
       "      <td>ע\"י ב\"כ עוה\"ד פורר</td>\n",
       "      <td>1</td>\n",
       "      <td>0</td>\n",
       "      <td>0</td>\n",
       "      <td>0</td>\n",
       "      <td>0</td>\n",
       "      <td>0</td>\n",
       "      <td>...</td>\n",
       "      <td>0</td>\n",
       "      <td>0</td>\n",
       "      <td>0</td>\n",
       "      <td>0</td>\n",
       "      <td>0</td>\n",
       "      <td>0</td>\n",
       "      <td>0</td>\n",
       "      <td>0.0</td>\n",
       "      <td>NaN</td>\n",
       "      <td>NaN</td>\n",
       "    </tr>\n",
       "  </tbody>\n",
       "</table>\n",
       "<p>2 rows × 21 columns</p>\n",
       "</div>"
      ],
      "text/plain": [
       "   Unnamed: 0.1  Unnamed: 0                    verdict  \\\n",
       "0             0           1  ME-12-05-33444-999_tagged   \n",
       "1             1           2  ME-12-05-33444-999_tagged   \n",
       "\n",
       "                         text  reject  CONFESSION  CIR_TYPE_WEP  \\\n",
       "0  ע\"י ב\"כ עוה\"ד אבירי – פמ\"מ       1           0             0   \n",
       "1          ע\"י ב\"כ עוה\"ד פורר       1           0             0   \n",
       "\n",
       "   CIR_HELD_WAY_WEP  CIR_AMMU_AMOUNT_WEP  CIR_PURPOSE  ...  CIR_STATUS_WEP  \\\n",
       "0                 0                    0            0  ...               0   \n",
       "1                 0                    0            0  ...               0   \n",
       "\n",
       "   REGRET  PUNISHMENT  CIRCUM_OFFENSE  CIR_PLANNING  RESPO  \\\n",
       "0       0           0               0             0      0   \n",
       "1       0           0               0             0      0   \n",
       "\n",
       "   CIR_OBTAIN_WAY_WEP  CIR_USE  CIR_BUYER_ID_WEP  CIR_MONEY_PAID_WEP  \n",
       "0                   0      0.0               NaN                 NaN  \n",
       "1                   0      0.0               NaN                 NaN  \n",
       "\n",
       "[2 rows x 21 columns]"
      ]
     },
     "execution_count": 21,
     "metadata": {},
     "output_type": "execute_result"
    }
   ],
   "source": [
    "sentence_tagging = '/home/ezradin/pred-sentencing/resources/data/tagging/gt/sentence_tagging.csv'\n",
    "sentence_tagging_df = pd.read_csv(sentence_tagging, index_col=False)\n",
    "sentence_tagging_df.head(2)"
   ]
  },
  {
   "cell_type": "code",
   "execution_count": 9,
   "metadata": {},
   "outputs": [],
   "source": [
    "num_sentences = len(sentence_tagging_df)\n",
    "num_of_cases = len(sentence_tagging_df.groupby('verdict'))"
   ]
  },
  {
   "cell_type": "code",
   "execution_count": 26,
   "metadata": {},
   "outputs": [],
   "source": [
    "import sys\n",
    "sys.path.append('/sise/home/ezradin/pred-sentencing/src/utils')\n",
    "\n",
    "from files import load_datasets\n",
    "\n",
    "data_path = \"/home/ezradin/pred-sentencing/resources/data/trainning/sentence_classification\"\n",
    "\n"
   ]
  },
  {
   "cell_type": "code",
   "execution_count": 27,
   "metadata": {},
   "outputs": [
    {
     "name": "stderr",
     "output_type": "stream",
     "text": [
      "Filter: 100%|██████████| 344/344 [00:00<00:00, 42376.66 examples/s]\n",
      "Filter: 100%|██████████| 282/282 [00:00<00:00, 80935.66 examples/s]\n",
      "Filter: 100%|██████████| 2422/2422 [00:00<00:00, 185888.20 examples/s]\n"
     ]
    },
    {
     "name": "stdout",
     "output_type": "stream",
     "text": [
      "Labe - reject:\n",
      "train set 344:\n",
      "eval set 282:\n",
      "test set 2422:\n"
     ]
    },
    {
     "name": "stderr",
     "output_type": "stream",
     "text": [
      "Filter: 100%|██████████| 54/54 [00:00<00:00, 21667.70 examples/s]\n",
      "Filter: 100%|██████████| 282/282 [00:00<00:00, 83026.37 examples/s]\n",
      "Filter: 100%|██████████| 2422/2422 [00:00<00:00, 190350.10 examples/s]\n"
     ]
    },
    {
     "name": "stdout",
     "output_type": "stream",
     "text": [
      "Labe - CONFESSION:\n",
      "train set 54:\n",
      "eval set 282:\n",
      "test set 2422:\n"
     ]
    },
    {
     "name": "stderr",
     "output_type": "stream",
     "text": [
      "Filter: 100%|██████████| 94/94 [00:00<00:00, 33109.22 examples/s]\n",
      "Filter: 100%|██████████| 282/282 [00:00<00:00, 82355.78 examples/s]\n",
      "Filter: 100%|██████████| 2422/2422 [00:00<00:00, 186866.15 examples/s]\n"
     ]
    },
    {
     "name": "stdout",
     "output_type": "stream",
     "text": [
      "Labe - CIR_TYPE_WEP:\n",
      "train set 94:\n",
      "eval set 282:\n",
      "test set 2422:\n"
     ]
    },
    {
     "name": "stderr",
     "output_type": "stream",
     "text": [
      "Filter: 100%|██████████| 16/16 [00:00<00:00, 6676.83 examples/s]\n",
      "Filter: 100%|██████████| 282/282 [00:00<00:00, 78868.69 examples/s]\n",
      "Filter: 100%|██████████| 2422/2422 [00:00<00:00, 190193.30 examples/s]"
     ]
    },
    {
     "name": "stdout",
     "output_type": "stream",
     "text": [
      "Labe - CIR_AMMU_AMOUNT_WEP:\n",
      "train set 16:\n",
      "eval set 282:\n",
      "test set 2422:\n"
     ]
    },
    {
     "name": "stderr",
     "output_type": "stream",
     "text": [
      "\n",
      "Filter: 100%|██████████| 14/14 [00:00<00:00, 5966.90 examples/s]\n",
      "Filter: 100%|██████████| 282/282 [00:00<00:00, 79913.10 examples/s]\n",
      "Filter: 100%|██████████| 2422/2422 [00:00<00:00, 186017.55 examples/s]\n"
     ]
    },
    {
     "name": "stdout",
     "output_type": "stream",
     "text": [
      "Labe - CIR_PURPOSE:\n",
      "train set 14:\n",
      "eval set 282:\n",
      "test set 2422:\n"
     ]
    },
    {
     "name": "stderr",
     "output_type": "stream",
     "text": [
      "Filter: 100%|██████████| 116/116 [00:00<00:00, 41347.77 examples/s]\n",
      "Filter: 100%|██████████| 282/282 [00:00<00:00, 79084.90 examples/s]\n",
      "Filter: 100%|██████████| 2422/2422 [00:00<00:00, 179429.92 examples/s]\n"
     ]
    },
    {
     "name": "stdout",
     "output_type": "stream",
     "text": [
      "Labe - GENERAL_CIRCUM:\n",
      "train set 116:\n",
      "eval set 282:\n",
      "test set 2422:\n"
     ]
    },
    {
     "name": "stderr",
     "output_type": "stream",
     "text": [
      "Filter: 100%|██████████| 46/46 [00:00<00:00, 18601.81 examples/s]\n",
      "Filter: 100%|██████████| 282/282 [00:00<00:00, 78926.58 examples/s]\n",
      "Filter: 100%|██████████| 2422/2422 [00:00<00:00, 186310.95 examples/s]\n"
     ]
    },
    {
     "name": "stdout",
     "output_type": "stream",
     "text": [
      "Labe - CIR_STATUS_WEP:\n",
      "train set 46:\n",
      "eval set 282:\n",
      "test set 2422:\n"
     ]
    },
    {
     "name": "stderr",
     "output_type": "stream",
     "text": [
      "Filter: 100%|██████████| 14/14 [00:00<00:00, 5334.81 examples/s]\n",
      "Filter: 100%|██████████| 282/282 [00:00<00:00, 80391.06 examples/s]\n",
      "Filter: 100%|██████████| 2422/2422 [00:00<00:00, 182253.08 examples/s]\n"
     ]
    },
    {
     "name": "stdout",
     "output_type": "stream",
     "text": [
      "Labe - REGRET:\n",
      "train set 14:\n",
      "eval set 282:\n",
      "test set 2422:\n"
     ]
    },
    {
     "name": "stderr",
     "output_type": "stream",
     "text": [
      "Filter: 100%|██████████| 26/26 [00:00<00:00, 10726.07 examples/s]\n",
      "Filter: 100%|██████████| 282/282 [00:00<00:00, 79929.30 examples/s]\n",
      "Filter: 100%|██████████| 2422/2422 [00:00<00:00, 187969.14 examples/s]\n"
     ]
    },
    {
     "name": "stdout",
     "output_type": "stream",
     "text": [
      "Labe - PUNISHMENT:\n",
      "train set 26:\n",
      "eval set 282:\n",
      "test set 2422:\n"
     ]
    },
    {
     "name": "stderr",
     "output_type": "stream",
     "text": [
      "Filter: 100%|██████████| 158/158 [00:00<00:00, 54583.64 examples/s]\n",
      "Filter: 100%|██████████| 282/282 [00:00<00:00, 79153.70 examples/s]\n",
      "Filter: 100%|██████████| 2422/2422 [00:00<00:00, 185599.52 examples/s]\n"
     ]
    },
    {
     "name": "stdout",
     "output_type": "stream",
     "text": [
      "Labe - CIRCUM_OFFENSE:\n",
      "train set 158:\n",
      "eval set 282:\n",
      "test set 2422:\n"
     ]
    },
    {
     "name": "stderr",
     "output_type": "stream",
     "text": [
      "Filter: 100%|██████████| 14/14 [00:00<00:00, 5953.59 examples/s]\n",
      "Filter: 100%|██████████| 282/282 [00:00<00:00, 80232.92 examples/s]\n",
      "Filter: 100%|██████████| 2422/2422 [00:00<00:00, 189830.78 examples/s]\n"
     ]
    },
    {
     "name": "stdout",
     "output_type": "stream",
     "text": [
      "Labe - CIR_PLANNING:\n",
      "train set 14:\n",
      "eval set 282:\n",
      "test set 2422:\n"
     ]
    },
    {
     "name": "stderr",
     "output_type": "stream",
     "text": [
      "Filter: 100%|██████████| 24/24 [00:00<00:00, 10263.39 examples/s]\n",
      "Filter: 100%|██████████| 282/282 [00:00<00:00, 78858.17 examples/s]\n",
      "Filter: 100%|██████████| 2422/2422 [00:00<00:00, 187927.41 examples/s]\n"
     ]
    },
    {
     "name": "stdout",
     "output_type": "stream",
     "text": [
      "Labe - RESPO:\n",
      "train set 24:\n",
      "eval set 282:\n",
      "test set 2422:\n"
     ]
    },
    {
     "name": "stderr",
     "output_type": "stream",
     "text": [
      "Filter: 100%|██████████| 10/10 [00:00<00:00, 2497.06 examples/s]\n",
      "Filter: 100%|██████████| 282/282 [00:00<00:00, 80080.82 examples/s]\n",
      "Filter: 100%|██████████| 2422/2422 [00:00<00:00, 166275.54 examples/s]\n"
     ]
    },
    {
     "name": "stdout",
     "output_type": "stream",
     "text": [
      "Labe - CIR_OBTAIN_WAY_WEP:\n",
      "train set 10:\n",
      "eval set 282:\n",
      "test set 2422:\n"
     ]
    },
    {
     "name": "stderr",
     "output_type": "stream",
     "text": [
      "Filter: 100%|██████████| 22/22 [00:00<00:00, 8842.81 examples/s]\n",
      "Filter: 100%|██████████| 282/282 [00:00<00:00, 82551.21 examples/s]\n",
      "Filter: 100%|██████████| 2422/2422 [00:00<00:00, 188464.33 examples/s]\n"
     ]
    },
    {
     "name": "stdout",
     "output_type": "stream",
     "text": [
      "Labe - CIR_USE:\n",
      "train set 22:\n",
      "eval set 233:\n",
      "test set 1989:\n"
     ]
    },
    {
     "name": "stderr",
     "output_type": "stream",
     "text": [
      "Filter: 100%|██████████| 16/16 [00:00<00:00, 6787.59 examples/s]\n",
      "Filter: 100%|██████████| 282/282 [00:00<00:00, 69153.05 examples/s]\n",
      "Filter: 100%|██████████| 2422/2422 [00:00<00:00, 190632.29 examples/s]"
     ]
    },
    {
     "name": "stdout",
     "output_type": "stream",
     "text": [
      "Labe - CIR_MONEY_PAID_WEP:\n",
      "train set 16:\n",
      "eval set 233:\n",
      "test set 809:\n"
     ]
    },
    {
     "name": "stderr",
     "output_type": "stream",
     "text": [
      "\n"
     ]
    }
   ],
   "source": [
    "column_list = sentence_tagging_df.columns\n",
    "    \n",
    "for label in column_list:\n",
    "    if label in ['Unnamed: 0', 'verdict', 'text', 'CIR_BUYER_ID_WEP', 'Unnamed: 0', 'Unnamed: 0.1', '__index_level_0__', 'CIR_HELD_WAY_WEP']:\n",
    "        continue  \n",
    "    \n",
    "    train_dataset, eval_dataset, test_dataset = load_datasets(data_path, label, balance=True)\n",
    "    print(f'Labe - {label}:')\n",
    "    print(f'train set {len(train_dataset)}:')\n",
    "    print(f'eval set {len(eval_dataset)}:')\n",
    "    print(f'test set {len(test_dataset)}:')\n",
    "    \n",
    "    \n"
   ]
  },
  {
   "cell_type": "code",
   "execution_count": 29,
   "metadata": {},
   "outputs": [
    {
     "name": "stderr",
     "output_type": "stream",
     "text": [
      "Filter: 100%|██████████| 344/344 [00:00<00:00, 75990.97 examples/s]\n",
      "Filter: 100%|██████████| 282/282 [00:00<00:00, 66568.76 examples/s]\n",
      "Filter: 100%|██████████| 2422/2422 [00:00<00:00, 179976.69 examples/s]"
     ]
    },
    {
     "name": "stdout",
     "output_type": "stream",
     "text": [
      "Labe - CIR_MONEY_PAID_WEP:\n",
      "train set 344:\n",
      "eval set 282:\n",
      "test set 2422:\n"
     ]
    },
    {
     "name": "stderr",
     "output_type": "stream",
     "text": [
      "\n"
     ]
    }
   ],
   "source": [
    "train_dataset, eval_dataset, test_dataset = load_datasets(data_path, 'reject', balance=True)\n",
    "print(f'Labe - {label}:')\n",
    "print(f'train set {len(train_dataset)}:')\n",
    "print(f'eval set {len(eval_dataset)}:')\n",
    "print(f'test set {len(test_dataset)}:')"
   ]
  },
  {
   "cell_type": "code",
   "execution_count": null,
   "metadata": {},
   "outputs": [],
   "source": []
  }
 ],
 "metadata": {
  "kernelspec": {
   "display_name": "trans_up",
   "language": "python",
   "name": "python3"
  },
  "language_info": {
   "codemirror_mode": {
    "name": "ipython",
    "version": 3
   },
   "file_extension": ".py",
   "mimetype": "text/x-python",
   "name": "python",
   "nbconvert_exporter": "python",
   "pygments_lexer": "ipython3",
   "version": "3.10.14"
  },
  "orig_nbformat": 4
 },
 "nbformat": 4,
 "nbformat_minor": 2
}
