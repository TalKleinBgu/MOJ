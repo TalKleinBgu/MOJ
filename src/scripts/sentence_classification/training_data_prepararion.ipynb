{
 "cells": [
  {
   "cell_type": "code",
   "execution_count": 2,
   "metadata": {},
   "outputs": [],
   "source": [
    "import pandas as pd\n",
    "from sklearn.model_selection import train_test_split\n",
    "import numpy as np\n",
    "import os\n",
    "import pickle"
   ]
  },
  {
   "cell_type": "code",
   "execution_count": 137,
   "metadata": {},
   "outputs": [],
   "source": [
    "df = pd.read_csv('/home/tak/MOJ/resources/data/tagging/weapon/gt/sentence_tagging.csv')\n",
    "df['text'] = df['text'].astype(str)\n",
    "\n",
    "df_cleaned = df.drop_duplicates(subset=['text'])\n",
    "duplicates = df_cleaned.duplicated(subset=['text'])\n",
    "label_columns = [col for col in df_cleaned.columns if not col.startswith('Unnamed') and col != 'verdict' and col != 'text']\n",
    "\n",
    "#drop nan values\n",
    "# df_cleaned = df_cleaned.dropna(subset=['verdict'])\n"
   ]
  },
  {
   "cell_type": "code",
   "execution_count": 149,
   "metadata": {},
   "outputs": [],
   "source": [
    "label_columns = label_columns[:15]"
   ]
  },
  {
   "cell_type": "code",
   "execution_count": 151,
   "metadata": {},
   "outputs": [
    {
     "data": {
      "text/plain": [
       "['reject',\n",
       " 'CONFESSION',\n",
       " 'CIR_TYPE_WEP',\n",
       " 'CIR_HELD_WAY_WEP',\n",
       " 'CIR_AMMU_AMOUNT_WEP',\n",
       " 'CIR_PURPOSE',\n",
       " 'GENERAL_CIRCUM',\n",
       " 'CIR_STATUS_WEP',\n",
       " 'REGRET',\n",
       " 'PUNISHMENT',\n",
       " 'CIRCUM_OFFENSE',\n",
       " 'CIR_PLANNING',\n",
       " 'RESPO',\n",
       " 'CIR_OBTAIN_WAY_WEP',\n",
       " 'CIR_USE']"
      ]
     },
     "execution_count": 151,
     "metadata": {},
     "output_type": "execute_result"
    }
   ],
   "source": [
    "label_columns"
   ]
  },
  {
   "cell_type": "code",
   "execution_count": 152,
   "metadata": {},
   "outputs": [],
   "source": [
    "def value_vounts(df):\n",
    "    verdict_grouped = df.groupby('verdict').size().reset_index(name='total_sentences')\n",
    "    label_counts = df.groupby('verdict')[label_columns].sum().reset_index()\n",
    "\n",
    "    combined_df = pd.merge(verdict_grouped, label_counts, on='verdict')\n",
    "\n",
    "    return combined_df\n",
    "\n",
    "def balance_dataframe(df):\n",
    "    \n",
    "    min_count = df['label'].value_counts().min()\n",
    "    balanced_df = df.groupby('label').apply(lambda x: x.sample(min_count)).reset_index(drop=True)\n",
    "\n",
    "    return balanced_df\n",
    "\n",
    "def create_label_dict(df, balance=True, text_column='text', ):    \n",
    "    \n",
    "    label_dict = {}\n",
    "    for label in label_columns:\n",
    "        label_df = df[[text_column, label]]\n",
    "        label_df.rename(columns={label: 'label'}, inplace=True)\n",
    "        if balance:\n",
    "            label_df = balance_dataframe(label_df)\n",
    "        label_dict[label] = label_df\n",
    "\n",
    "    return label_dict\n",
    "\n",
    "\n",
    "\n",
    "def save_dict_as_pickle(label_dict, file_name='label_dataframes.pkl'):\n",
    "    with open(file_name, 'wb') as f:\n",
    "        pickle.dump(label_dict, f)\n",
    "    print(f\"Dictionary saved as {file_name}\")\n",
    "    \n",
    "def load_dict_from_pickle(file_name='label_dataframes.pkl'):\n",
    "    with open(file_name, 'rb') as f:\n",
    "        label_dict = pickle.load(f)\n",
    "    print(f\"Dictionary loaded from {file_name}\")\n",
    "    return label_dict\n",
    "\n",
    "def save_dfs_pickle(df, save_path, type_, balance=False):\n",
    "    label_dataframes = create_label_dict(df, balance)\n",
    "    save_dict_as_pickle(label_dataframes, os.path.join(save_path, type_ + '_label_dataframes.pkl'))\n",
    "    return label_dataframes"
   ]
  },
  {
   "cell_type": "code",
   "execution_count": 4,
   "metadata": {},
   "outputs": [
    {
     "name": "stdout",
     "output_type": "stream",
     "text": [
      "DataFrame columns: Index(['Unnamed: 0.1', 'Unnamed: 0', 'verdict', 'text', 'reject', 'CONFESSION',\n",
      "       'CIR_TYPE_WEP', 'CIR_HELD_WAY_WEP', 'CIR_AMMU_AMOUNT_WEP',\n",
      "       'CIR_PURPOSE', 'GENERAL_CIRCUM', 'CIR_STATUS_WEP', 'REGRET',\n",
      "       'PUNISHMENT', 'CIRCUM_OFFENSE', 'CIR_PLANNING', 'RESPO',\n",
      "       'CIR_OBTAIN_WAY_WEP', 'CIR_USE', 'CIR_BUYER_ID_WEP',\n",
      "       'CIR_MONEY_PAID_WEP'],\n",
      "      dtype='object')\n"
     ]
    }
   ],
   "source": [
    "print(\"DataFrame columns:\", df_cleaned.columns)\n"
   ]
  },
  {
   "cell_type": "code",
   "execution_count": 11,
   "metadata": {},
   "outputs": [
    {
     "name": "stdout",
     "output_type": "stream",
     "text": [
      "Collecting scikit-multilearn\n",
      "  Downloading scikit_multilearn-0.2.0-py3-none-any.whl.metadata (6.0 kB)\n",
      "Downloading scikit_multilearn-0.2.0-py3-none-any.whl (89 kB)\n",
      "Installing collected packages: scikit-multilearn\n",
      "Successfully installed scikit-multilearn-0.2.0\n",
      "Note: you may need to restart the kernel to use updated packages.\n"
     ]
    }
   ],
   "source": [
    "%pip install scikit-multilearn"
   ]
  },
  {
   "cell_type": "code",
   "execution_count": 7,
   "metadata": {},
   "outputs": [],
   "source": [
    "from skmultilearn.model_selection import iterative_train_test_split\n",
    "\n",
    "# Load your CSV file into DataFrame\n",
    "# df_cleaned = pd.read_csv('your_file.csv')\n",
    "\n",
    "# Features (you can adjust as needed)\n",
    "X = df_cleaned.drop(columns=[\n",
    "    'reject','CIR_PUNISHMENT', 'CONFESSION', 'CIR_TYPE','CIR_ROLE',\n",
    "    'GENERAL_CIRCUM', 'CIR_AMOUNT', 'REGRET','RESPO', 'CIR_EQ'\n",
    "]).values\n",
    "\n",
    "# All your binary label columns\n",
    "y = df_cleaned[[\n",
    "    'reject','CIR_PUNISHMENT', 'CONFESSION', 'CIR_TYPE','CIR_ROLE',\n",
    "    'GENERAL_CIRCUM', 'CIR_AMOUNT', 'REGRET','RESPO', 'CIR_EQ'\n",
    "]].values\n",
    "\n",
    "# First split: 60% train, 40% temp (eval + test)\n",
    "X_train, y_train, X_temp, y_temp = iterative_train_test_split(X, y, test_size=0.5)\n",
    "\n",
    "# Second split: temp into 20% eval and 20% test (half each)\n",
    "X_eval, y_eval, X_test, y_test = iterative_train_test_split(X_temp, y_temp, test_size=0.8)\n",
    "\n",
    "# Convert splits back to DataFrames\n",
    "feature_columns = df_cleaned.drop(columns=[\n",
    "    'reject','CIR_PUNISHMENT', 'CONFESSION', 'CIR_TYPE', 'REGRET', 'CIR_ROLE',\n",
    "    'GENERAL_CIRCUM', 'CIR_AMOUNT', 'REGRET','RESPO', 'CIR_EQ'\n",
    "]).columns.tolist()\n",
    "\n",
    "label_columns = [\n",
    "    'reject', 'CIR_PUNISHMENT', 'CONFESSION', 'CIR_TYPE', 'CIR_ROLE',\n",
    "    'GENERAL_CIRCUM', 'CIR_AMOUNT', 'REGRET', 'RESPO', 'CIR_EQ'\n",
    "]\n",
    "\n",
    "\n",
    "# Train DataFrame\n",
    "df_train = pd.DataFrame(X_train, columns=feature_columns)\n",
    "df_train[label_columns] = y_train\n",
    "\n",
    "# Eval DataFrame\n",
    "df_eval = pd.DataFrame(X_eval, columns=feature_columns)\n",
    "df_eval[label_columns] = y_eval\n",
    "\n",
    "# Test DataFrame\n",
    "df_test = pd.DataFrame(X_test, columns=feature_columns)\n",
    "df_test[label_columns] = y_test\n",
    "\n",
    "# Verify distributions\n",
    "# Function to verify and collect distribution into a DataFrame\n",
    "# Define the verify_distribution function\n",
    "def verify_distribution(df, name):\n",
    "    dist = df[label_columns].mean()\n",
    "    dist.name = name\n",
    "    print(f\"--- {name} Distribution ---\")\n",
    "    print(dist, \"\\n\")\n",
    "    return dist\n",
    "\n",
    "# Call verify_distribution for each split\n",
    "# train_dist = verify_distribution(df_train, \"Train\")\n",
    "# eval_dist = verify_distribution(df_eval, \"Eval\")\n",
    "# test_dist = verify_distribution(df_test, \"Test\")\n",
    "\n",
    "# # Combine into one DataFrame\n",
    "# distribution_df = pd.concat([train_dist, eval_dist, test_dist], axis=1)\n",
    "\n",
    "# # Save combined distributions to CSV\n",
    "# distribution_df.to_csv(\"label_distribution.csv\", index=True)\n",
    "\n",
    "#save the verify_distribution in one csv file\n",
    "\n",
    "\n",
    "#remove nan\n",
    "train_df = df_train.dropna()\n",
    "eval_df = df_eval.dropna()\n",
    "test_df = df_test.dropna()\n",
    "\n",
    "# Save DataFrames to CSV\n",
    "# train_df.to_csv('train_drugs.csv', index=False)\n",
    "# eval_df.to_csv('eval_drugs.csv', index=False)\n",
    "# test_df.to_csv('test_drugs.csv', index=False)"
   ]
  },
  {
   "cell_type": "code",
   "execution_count": 39,
   "metadata": {},
   "outputs": [],
   "source": [
    "train_verdicts = np.random.choice(df_cleaned['verdict'].unique(), size=15, replace=False)\n",
    "train_df = df_cleaned[df_cleaned['verdict'].isin(train_verdicts)]\n",
    "\n",
    "remaining_df = df_cleaned[~df_cleaned['verdict'].isin(train_verdicts)]\n",
    "remaining_verdicts = remaining_df['verdict'].unique()\n",
    "test_verdicts, eval_verdicts = train_test_split(remaining_verdicts, test_size=0.1, random_state=42)\n",
    "\n",
    "test_df = remaining_df[remaining_df['verdict'].isin(test_verdicts)]\n",
    "eval_df = remaining_df[remaining_df['verdict'].isin(eval_verdicts)]"
   ]
  },
  {
   "cell_type": "code",
   "execution_count": 29,
   "metadata": {},
   "outputs": [
    {
     "data": {
      "text/plain": [
       "(1162, 979, 246)"
      ]
     },
     "execution_count": 29,
     "metadata": {},
     "output_type": "execute_result"
    }
   ],
   "source": [
    "len(train_df), len(test_df), len(eval_df)"
   ]
  },
  {
   "cell_type": "code",
   "execution_count": 161,
   "metadata": {},
   "outputs": [
    {
     "name": "stdout",
     "output_type": "stream",
     "text": [
      "Dictionary saved as /home/tak/MOJ/resources/data/trainning/sentence_classification/weapon/stratify_sentences_50_40_10/train_balance_label_dataframes.pkl\n",
      "Dictionary saved as /home/tak/MOJ/resources/data/trainning/sentence_classification/weapon/stratify_sentences_50_40_10/test_label_dataframes.pkl\n",
      "Dictionary saved as /home/tak/MOJ/resources/data/trainning/sentence_classification/weapon/stratify_sentences_50_40_10/eval_label_dataframes.pkl\n"
     ]
    },
    {
     "name": "stderr",
     "output_type": "stream",
     "text": [
      "/tmp/ipykernel_3745843/4048170768.py:21: SettingWithCopyWarning: \n",
      "A value is trying to be set on a copy of a slice from a DataFrame\n",
      "\n",
      "See the caveats in the documentation: https://pandas.pydata.org/pandas-docs/stable/user_guide/indexing.html#returning-a-view-versus-a-copy\n",
      "  label_df.rename(columns={label: 'label'}, inplace=True)\n",
      "/tmp/ipykernel_3745843/4048170768.py:12: DeprecationWarning: DataFrameGroupBy.apply operated on the grouping columns. This behavior is deprecated, and in a future version of pandas the grouping columns will be excluded from the operation. Either pass `include_groups=False` to exclude the groupings or explicitly select the grouping columns after groupby to silence this warning.\n",
      "  balanced_df = df.groupby('label').apply(lambda x: x.sample(min_count)).reset_index(drop=True)\n",
      "/tmp/ipykernel_3745843/4048170768.py:21: SettingWithCopyWarning: \n",
      "A value is trying to be set on a copy of a slice from a DataFrame\n",
      "\n",
      "See the caveats in the documentation: https://pandas.pydata.org/pandas-docs/stable/user_guide/indexing.html#returning-a-view-versus-a-copy\n",
      "  label_df.rename(columns={label: 'label'}, inplace=True)\n",
      "/tmp/ipykernel_3745843/4048170768.py:12: DeprecationWarning: DataFrameGroupBy.apply operated on the grouping columns. This behavior is deprecated, and in a future version of pandas the grouping columns will be excluded from the operation. Either pass `include_groups=False` to exclude the groupings or explicitly select the grouping columns after groupby to silence this warning.\n",
      "  balanced_df = df.groupby('label').apply(lambda x: x.sample(min_count)).reset_index(drop=True)\n",
      "/tmp/ipykernel_3745843/4048170768.py:21: SettingWithCopyWarning: \n",
      "A value is trying to be set on a copy of a slice from a DataFrame\n",
      "\n",
      "See the caveats in the documentation: https://pandas.pydata.org/pandas-docs/stable/user_guide/indexing.html#returning-a-view-versus-a-copy\n",
      "  label_df.rename(columns={label: 'label'}, inplace=True)\n",
      "/tmp/ipykernel_3745843/4048170768.py:12: DeprecationWarning: DataFrameGroupBy.apply operated on the grouping columns. This behavior is deprecated, and in a future version of pandas the grouping columns will be excluded from the operation. Either pass `include_groups=False` to exclude the groupings or explicitly select the grouping columns after groupby to silence this warning.\n",
      "  balanced_df = df.groupby('label').apply(lambda x: x.sample(min_count)).reset_index(drop=True)\n",
      "/tmp/ipykernel_3745843/4048170768.py:21: SettingWithCopyWarning: \n",
      "A value is trying to be set on a copy of a slice from a DataFrame\n",
      "\n",
      "See the caveats in the documentation: https://pandas.pydata.org/pandas-docs/stable/user_guide/indexing.html#returning-a-view-versus-a-copy\n",
      "  label_df.rename(columns={label: 'label'}, inplace=True)\n",
      "/tmp/ipykernel_3745843/4048170768.py:12: DeprecationWarning: DataFrameGroupBy.apply operated on the grouping columns. This behavior is deprecated, and in a future version of pandas the grouping columns will be excluded from the operation. Either pass `include_groups=False` to exclude the groupings or explicitly select the grouping columns after groupby to silence this warning.\n",
      "  balanced_df = df.groupby('label').apply(lambda x: x.sample(min_count)).reset_index(drop=True)\n",
      "/tmp/ipykernel_3745843/4048170768.py:21: SettingWithCopyWarning: \n",
      "A value is trying to be set on a copy of a slice from a DataFrame\n",
      "\n",
      "See the caveats in the documentation: https://pandas.pydata.org/pandas-docs/stable/user_guide/indexing.html#returning-a-view-versus-a-copy\n",
      "  label_df.rename(columns={label: 'label'}, inplace=True)\n",
      "/tmp/ipykernel_3745843/4048170768.py:12: DeprecationWarning: DataFrameGroupBy.apply operated on the grouping columns. This behavior is deprecated, and in a future version of pandas the grouping columns will be excluded from the operation. Either pass `include_groups=False` to exclude the groupings or explicitly select the grouping columns after groupby to silence this warning.\n",
      "  balanced_df = df.groupby('label').apply(lambda x: x.sample(min_count)).reset_index(drop=True)\n",
      "/tmp/ipykernel_3745843/4048170768.py:21: SettingWithCopyWarning: \n",
      "A value is trying to be set on a copy of a slice from a DataFrame\n",
      "\n",
      "See the caveats in the documentation: https://pandas.pydata.org/pandas-docs/stable/user_guide/indexing.html#returning-a-view-versus-a-copy\n",
      "  label_df.rename(columns={label: 'label'}, inplace=True)\n",
      "/tmp/ipykernel_3745843/4048170768.py:12: DeprecationWarning: DataFrameGroupBy.apply operated on the grouping columns. This behavior is deprecated, and in a future version of pandas the grouping columns will be excluded from the operation. Either pass `include_groups=False` to exclude the groupings or explicitly select the grouping columns after groupby to silence this warning.\n",
      "  balanced_df = df.groupby('label').apply(lambda x: x.sample(min_count)).reset_index(drop=True)\n",
      "/tmp/ipykernel_3745843/4048170768.py:21: SettingWithCopyWarning: \n",
      "A value is trying to be set on a copy of a slice from a DataFrame\n",
      "\n",
      "See the caveats in the documentation: https://pandas.pydata.org/pandas-docs/stable/user_guide/indexing.html#returning-a-view-versus-a-copy\n",
      "  label_df.rename(columns={label: 'label'}, inplace=True)\n",
      "/tmp/ipykernel_3745843/4048170768.py:12: DeprecationWarning: DataFrameGroupBy.apply operated on the grouping columns. This behavior is deprecated, and in a future version of pandas the grouping columns will be excluded from the operation. Either pass `include_groups=False` to exclude the groupings or explicitly select the grouping columns after groupby to silence this warning.\n",
      "  balanced_df = df.groupby('label').apply(lambda x: x.sample(min_count)).reset_index(drop=True)\n",
      "/tmp/ipykernel_3745843/4048170768.py:21: SettingWithCopyWarning: \n",
      "A value is trying to be set on a copy of a slice from a DataFrame\n",
      "\n",
      "See the caveats in the documentation: https://pandas.pydata.org/pandas-docs/stable/user_guide/indexing.html#returning-a-view-versus-a-copy\n",
      "  label_df.rename(columns={label: 'label'}, inplace=True)\n",
      "/tmp/ipykernel_3745843/4048170768.py:12: DeprecationWarning: DataFrameGroupBy.apply operated on the grouping columns. This behavior is deprecated, and in a future version of pandas the grouping columns will be excluded from the operation. Either pass `include_groups=False` to exclude the groupings or explicitly select the grouping columns after groupby to silence this warning.\n",
      "  balanced_df = df.groupby('label').apply(lambda x: x.sample(min_count)).reset_index(drop=True)\n",
      "/tmp/ipykernel_3745843/4048170768.py:21: SettingWithCopyWarning: \n",
      "A value is trying to be set on a copy of a slice from a DataFrame\n",
      "\n",
      "See the caveats in the documentation: https://pandas.pydata.org/pandas-docs/stable/user_guide/indexing.html#returning-a-view-versus-a-copy\n",
      "  label_df.rename(columns={label: 'label'}, inplace=True)\n",
      "/tmp/ipykernel_3745843/4048170768.py:12: DeprecationWarning: DataFrameGroupBy.apply operated on the grouping columns. This behavior is deprecated, and in a future version of pandas the grouping columns will be excluded from the operation. Either pass `include_groups=False` to exclude the groupings or explicitly select the grouping columns after groupby to silence this warning.\n",
      "  balanced_df = df.groupby('label').apply(lambda x: x.sample(min_count)).reset_index(drop=True)\n",
      "/tmp/ipykernel_3745843/4048170768.py:21: SettingWithCopyWarning: \n",
      "A value is trying to be set on a copy of a slice from a DataFrame\n",
      "\n",
      "See the caveats in the documentation: https://pandas.pydata.org/pandas-docs/stable/user_guide/indexing.html#returning-a-view-versus-a-copy\n",
      "  label_df.rename(columns={label: 'label'}, inplace=True)\n",
      "/tmp/ipykernel_3745843/4048170768.py:12: DeprecationWarning: DataFrameGroupBy.apply operated on the grouping columns. This behavior is deprecated, and in a future version of pandas the grouping columns will be excluded from the operation. Either pass `include_groups=False` to exclude the groupings or explicitly select the grouping columns after groupby to silence this warning.\n",
      "  balanced_df = df.groupby('label').apply(lambda x: x.sample(min_count)).reset_index(drop=True)\n",
      "/tmp/ipykernel_3745843/4048170768.py:21: SettingWithCopyWarning: \n",
      "A value is trying to be set on a copy of a slice from a DataFrame\n",
      "\n",
      "See the caveats in the documentation: https://pandas.pydata.org/pandas-docs/stable/user_guide/indexing.html#returning-a-view-versus-a-copy\n",
      "  label_df.rename(columns={label: 'label'}, inplace=True)\n",
      "/tmp/ipykernel_3745843/4048170768.py:12: DeprecationWarning: DataFrameGroupBy.apply operated on the grouping columns. This behavior is deprecated, and in a future version of pandas the grouping columns will be excluded from the operation. Either pass `include_groups=False` to exclude the groupings or explicitly select the grouping columns after groupby to silence this warning.\n",
      "  balanced_df = df.groupby('label').apply(lambda x: x.sample(min_count)).reset_index(drop=True)\n",
      "/tmp/ipykernel_3745843/4048170768.py:21: SettingWithCopyWarning: \n",
      "A value is trying to be set on a copy of a slice from a DataFrame\n",
      "\n",
      "See the caveats in the documentation: https://pandas.pydata.org/pandas-docs/stable/user_guide/indexing.html#returning-a-view-versus-a-copy\n",
      "  label_df.rename(columns={label: 'label'}, inplace=True)\n",
      "/tmp/ipykernel_3745843/4048170768.py:12: DeprecationWarning: DataFrameGroupBy.apply operated on the grouping columns. This behavior is deprecated, and in a future version of pandas the grouping columns will be excluded from the operation. Either pass `include_groups=False` to exclude the groupings or explicitly select the grouping columns after groupby to silence this warning.\n",
      "  balanced_df = df.groupby('label').apply(lambda x: x.sample(min_count)).reset_index(drop=True)\n",
      "/tmp/ipykernel_3745843/4048170768.py:21: SettingWithCopyWarning: \n",
      "A value is trying to be set on a copy of a slice from a DataFrame\n",
      "\n",
      "See the caveats in the documentation: https://pandas.pydata.org/pandas-docs/stable/user_guide/indexing.html#returning-a-view-versus-a-copy\n",
      "  label_df.rename(columns={label: 'label'}, inplace=True)\n",
      "/tmp/ipykernel_3745843/4048170768.py:12: DeprecationWarning: DataFrameGroupBy.apply operated on the grouping columns. This behavior is deprecated, and in a future version of pandas the grouping columns will be excluded from the operation. Either pass `include_groups=False` to exclude the groupings or explicitly select the grouping columns after groupby to silence this warning.\n",
      "  balanced_df = df.groupby('label').apply(lambda x: x.sample(min_count)).reset_index(drop=True)\n",
      "/tmp/ipykernel_3745843/4048170768.py:21: SettingWithCopyWarning: \n",
      "A value is trying to be set on a copy of a slice from a DataFrame\n",
      "\n",
      "See the caveats in the documentation: https://pandas.pydata.org/pandas-docs/stable/user_guide/indexing.html#returning-a-view-versus-a-copy\n",
      "  label_df.rename(columns={label: 'label'}, inplace=True)\n",
      "/tmp/ipykernel_3745843/4048170768.py:12: DeprecationWarning: DataFrameGroupBy.apply operated on the grouping columns. This behavior is deprecated, and in a future version of pandas the grouping columns will be excluded from the operation. Either pass `include_groups=False` to exclude the groupings or explicitly select the grouping columns after groupby to silence this warning.\n",
      "  balanced_df = df.groupby('label').apply(lambda x: x.sample(min_count)).reset_index(drop=True)\n",
      "/tmp/ipykernel_3745843/4048170768.py:21: SettingWithCopyWarning: \n",
      "A value is trying to be set on a copy of a slice from a DataFrame\n",
      "\n",
      "See the caveats in the documentation: https://pandas.pydata.org/pandas-docs/stable/user_guide/indexing.html#returning-a-view-versus-a-copy\n",
      "  label_df.rename(columns={label: 'label'}, inplace=True)\n",
      "/tmp/ipykernel_3745843/4048170768.py:12: DeprecationWarning: DataFrameGroupBy.apply operated on the grouping columns. This behavior is deprecated, and in a future version of pandas the grouping columns will be excluded from the operation. Either pass `include_groups=False` to exclude the groupings or explicitly select the grouping columns after groupby to silence this warning.\n",
      "  balanced_df = df.groupby('label').apply(lambda x: x.sample(min_count)).reset_index(drop=True)\n",
      "/tmp/ipykernel_3745843/4048170768.py:21: SettingWithCopyWarning: \n",
      "A value is trying to be set on a copy of a slice from a DataFrame\n",
      "\n",
      "See the caveats in the documentation: https://pandas.pydata.org/pandas-docs/stable/user_guide/indexing.html#returning-a-view-versus-a-copy\n",
      "  label_df.rename(columns={label: 'label'}, inplace=True)\n",
      "/tmp/ipykernel_3745843/4048170768.py:21: SettingWithCopyWarning: \n",
      "A value is trying to be set on a copy of a slice from a DataFrame\n",
      "\n",
      "See the caveats in the documentation: https://pandas.pydata.org/pandas-docs/stable/user_guide/indexing.html#returning-a-view-versus-a-copy\n",
      "  label_df.rename(columns={label: 'label'}, inplace=True)\n",
      "/tmp/ipykernel_3745843/4048170768.py:21: SettingWithCopyWarning: \n",
      "A value is trying to be set on a copy of a slice from a DataFrame\n",
      "\n",
      "See the caveats in the documentation: https://pandas.pydata.org/pandas-docs/stable/user_guide/indexing.html#returning-a-view-versus-a-copy\n",
      "  label_df.rename(columns={label: 'label'}, inplace=True)\n",
      "/tmp/ipykernel_3745843/4048170768.py:21: SettingWithCopyWarning: \n",
      "A value is trying to be set on a copy of a slice from a DataFrame\n",
      "\n",
      "See the caveats in the documentation: https://pandas.pydata.org/pandas-docs/stable/user_guide/indexing.html#returning-a-view-versus-a-copy\n",
      "  label_df.rename(columns={label: 'label'}, inplace=True)\n",
      "/tmp/ipykernel_3745843/4048170768.py:21: SettingWithCopyWarning: \n",
      "A value is trying to be set on a copy of a slice from a DataFrame\n",
      "\n",
      "See the caveats in the documentation: https://pandas.pydata.org/pandas-docs/stable/user_guide/indexing.html#returning-a-view-versus-a-copy\n",
      "  label_df.rename(columns={label: 'label'}, inplace=True)\n",
      "/tmp/ipykernel_3745843/4048170768.py:21: SettingWithCopyWarning: \n",
      "A value is trying to be set on a copy of a slice from a DataFrame\n",
      "\n",
      "See the caveats in the documentation: https://pandas.pydata.org/pandas-docs/stable/user_guide/indexing.html#returning-a-view-versus-a-copy\n",
      "  label_df.rename(columns={label: 'label'}, inplace=True)\n",
      "/tmp/ipykernel_3745843/4048170768.py:21: SettingWithCopyWarning: \n",
      "A value is trying to be set on a copy of a slice from a DataFrame\n",
      "\n",
      "See the caveats in the documentation: https://pandas.pydata.org/pandas-docs/stable/user_guide/indexing.html#returning-a-view-versus-a-copy\n",
      "  label_df.rename(columns={label: 'label'}, inplace=True)\n",
      "/tmp/ipykernel_3745843/4048170768.py:21: SettingWithCopyWarning: \n",
      "A value is trying to be set on a copy of a slice from a DataFrame\n",
      "\n",
      "See the caveats in the documentation: https://pandas.pydata.org/pandas-docs/stable/user_guide/indexing.html#returning-a-view-versus-a-copy\n",
      "  label_df.rename(columns={label: 'label'}, inplace=True)\n",
      "/tmp/ipykernel_3745843/4048170768.py:21: SettingWithCopyWarning: \n",
      "A value is trying to be set on a copy of a slice from a DataFrame\n",
      "\n",
      "See the caveats in the documentation: https://pandas.pydata.org/pandas-docs/stable/user_guide/indexing.html#returning-a-view-versus-a-copy\n",
      "  label_df.rename(columns={label: 'label'}, inplace=True)\n",
      "/tmp/ipykernel_3745843/4048170768.py:21: SettingWithCopyWarning: \n",
      "A value is trying to be set on a copy of a slice from a DataFrame\n",
      "\n",
      "See the caveats in the documentation: https://pandas.pydata.org/pandas-docs/stable/user_guide/indexing.html#returning-a-view-versus-a-copy\n",
      "  label_df.rename(columns={label: 'label'}, inplace=True)\n",
      "/tmp/ipykernel_3745843/4048170768.py:21: SettingWithCopyWarning: \n",
      "A value is trying to be set on a copy of a slice from a DataFrame\n",
      "\n",
      "See the caveats in the documentation: https://pandas.pydata.org/pandas-docs/stable/user_guide/indexing.html#returning-a-view-versus-a-copy\n",
      "  label_df.rename(columns={label: 'label'}, inplace=True)\n",
      "/tmp/ipykernel_3745843/4048170768.py:21: SettingWithCopyWarning: \n",
      "A value is trying to be set on a copy of a slice from a DataFrame\n",
      "\n",
      "See the caveats in the documentation: https://pandas.pydata.org/pandas-docs/stable/user_guide/indexing.html#returning-a-view-versus-a-copy\n",
      "  label_df.rename(columns={label: 'label'}, inplace=True)\n",
      "/tmp/ipykernel_3745843/4048170768.py:21: SettingWithCopyWarning: \n",
      "A value is trying to be set on a copy of a slice from a DataFrame\n",
      "\n",
      "See the caveats in the documentation: https://pandas.pydata.org/pandas-docs/stable/user_guide/indexing.html#returning-a-view-versus-a-copy\n",
      "  label_df.rename(columns={label: 'label'}, inplace=True)\n",
      "/tmp/ipykernel_3745843/4048170768.py:21: SettingWithCopyWarning: \n",
      "A value is trying to be set on a copy of a slice from a DataFrame\n",
      "\n",
      "See the caveats in the documentation: https://pandas.pydata.org/pandas-docs/stable/user_guide/indexing.html#returning-a-view-versus-a-copy\n",
      "  label_df.rename(columns={label: 'label'}, inplace=True)\n",
      "/tmp/ipykernel_3745843/4048170768.py:21: SettingWithCopyWarning: \n",
      "A value is trying to be set on a copy of a slice from a DataFrame\n",
      "\n",
      "See the caveats in the documentation: https://pandas.pydata.org/pandas-docs/stable/user_guide/indexing.html#returning-a-view-versus-a-copy\n",
      "  label_df.rename(columns={label: 'label'}, inplace=True)\n",
      "/tmp/ipykernel_3745843/4048170768.py:21: SettingWithCopyWarning: \n",
      "A value is trying to be set on a copy of a slice from a DataFrame\n",
      "\n",
      "See the caveats in the documentation: https://pandas.pydata.org/pandas-docs/stable/user_guide/indexing.html#returning-a-view-versus-a-copy\n",
      "  label_df.rename(columns={label: 'label'}, inplace=True)\n",
      "/tmp/ipykernel_3745843/4048170768.py:21: SettingWithCopyWarning: \n",
      "A value is trying to be set on a copy of a slice from a DataFrame\n",
      "\n",
      "See the caveats in the documentation: https://pandas.pydata.org/pandas-docs/stable/user_guide/indexing.html#returning-a-view-versus-a-copy\n",
      "  label_df.rename(columns={label: 'label'}, inplace=True)\n",
      "/tmp/ipykernel_3745843/4048170768.py:21: SettingWithCopyWarning: \n",
      "A value is trying to be set on a copy of a slice from a DataFrame\n",
      "\n",
      "See the caveats in the documentation: https://pandas.pydata.org/pandas-docs/stable/user_guide/indexing.html#returning-a-view-versus-a-copy\n",
      "  label_df.rename(columns={label: 'label'}, inplace=True)\n",
      "/tmp/ipykernel_3745843/4048170768.py:21: SettingWithCopyWarning: \n",
      "A value is trying to be set on a copy of a slice from a DataFrame\n",
      "\n",
      "See the caveats in the documentation: https://pandas.pydata.org/pandas-docs/stable/user_guide/indexing.html#returning-a-view-versus-a-copy\n",
      "  label_df.rename(columns={label: 'label'}, inplace=True)\n",
      "/tmp/ipykernel_3745843/4048170768.py:21: SettingWithCopyWarning: \n",
      "A value is trying to be set on a copy of a slice from a DataFrame\n",
      "\n",
      "See the caveats in the documentation: https://pandas.pydata.org/pandas-docs/stable/user_guide/indexing.html#returning-a-view-versus-a-copy\n",
      "  label_df.rename(columns={label: 'label'}, inplace=True)\n",
      "/tmp/ipykernel_3745843/4048170768.py:21: SettingWithCopyWarning: \n",
      "A value is trying to be set on a copy of a slice from a DataFrame\n",
      "\n",
      "See the caveats in the documentation: https://pandas.pydata.org/pandas-docs/stable/user_guide/indexing.html#returning-a-view-versus-a-copy\n",
      "  label_df.rename(columns={label: 'label'}, inplace=True)\n",
      "/tmp/ipykernel_3745843/4048170768.py:21: SettingWithCopyWarning: \n",
      "A value is trying to be set on a copy of a slice from a DataFrame\n",
      "\n",
      "See the caveats in the documentation: https://pandas.pydata.org/pandas-docs/stable/user_guide/indexing.html#returning-a-view-versus-a-copy\n",
      "  label_df.rename(columns={label: 'label'}, inplace=True)\n",
      "/tmp/ipykernel_3745843/4048170768.py:21: SettingWithCopyWarning: \n",
      "A value is trying to be set on a copy of a slice from a DataFrame\n",
      "\n",
      "See the caveats in the documentation: https://pandas.pydata.org/pandas-docs/stable/user_guide/indexing.html#returning-a-view-versus-a-copy\n",
      "  label_df.rename(columns={label: 'label'}, inplace=True)\n",
      "/tmp/ipykernel_3745843/4048170768.py:21: SettingWithCopyWarning: \n",
      "A value is trying to be set on a copy of a slice from a DataFrame\n",
      "\n",
      "See the caveats in the documentation: https://pandas.pydata.org/pandas-docs/stable/user_guide/indexing.html#returning-a-view-versus-a-copy\n",
      "  label_df.rename(columns={label: 'label'}, inplace=True)\n",
      "/tmp/ipykernel_3745843/4048170768.py:21: SettingWithCopyWarning: \n",
      "A value is trying to be set on a copy of a slice from a DataFrame\n",
      "\n",
      "See the caveats in the documentation: https://pandas.pydata.org/pandas-docs/stable/user_guide/indexing.html#returning-a-view-versus-a-copy\n",
      "  label_df.rename(columns={label: 'label'}, inplace=True)\n",
      "/tmp/ipykernel_3745843/4048170768.py:21: SettingWithCopyWarning: \n",
      "A value is trying to be set on a copy of a slice from a DataFrame\n",
      "\n",
      "See the caveats in the documentation: https://pandas.pydata.org/pandas-docs/stable/user_guide/indexing.html#returning-a-view-versus-a-copy\n",
      "  label_df.rename(columns={label: 'label'}, inplace=True)\n",
      "/tmp/ipykernel_3745843/4048170768.py:21: SettingWithCopyWarning: \n",
      "A value is trying to be set on a copy of a slice from a DataFrame\n",
      "\n",
      "See the caveats in the documentation: https://pandas.pydata.org/pandas-docs/stable/user_guide/indexing.html#returning-a-view-versus-a-copy\n",
      "  label_df.rename(columns={label: 'label'}, inplace=True)\n",
      "/tmp/ipykernel_3745843/4048170768.py:21: SettingWithCopyWarning: \n",
      "A value is trying to be set on a copy of a slice from a DataFrame\n",
      "\n",
      "See the caveats in the documentation: https://pandas.pydata.org/pandas-docs/stable/user_guide/indexing.html#returning-a-view-versus-a-copy\n",
      "  label_df.rename(columns={label: 'label'}, inplace=True)\n",
      "/tmp/ipykernel_3745843/4048170768.py:21: SettingWithCopyWarning: \n",
      "A value is trying to be set on a copy of a slice from a DataFrame\n",
      "\n",
      "See the caveats in the documentation: https://pandas.pydata.org/pandas-docs/stable/user_guide/indexing.html#returning-a-view-versus-a-copy\n",
      "  label_df.rename(columns={label: 'label'}, inplace=True)\n",
      "/tmp/ipykernel_3745843/4048170768.py:21: SettingWithCopyWarning: \n",
      "A value is trying to be set on a copy of a slice from a DataFrame\n",
      "\n",
      "See the caveats in the documentation: https://pandas.pydata.org/pandas-docs/stable/user_guide/indexing.html#returning-a-view-versus-a-copy\n",
      "  label_df.rename(columns={label: 'label'}, inplace=True)\n"
     ]
    }
   ],
   "source": [
    "import shutil\n",
    "\n",
    "save_path = '/home/tak/MOJ/resources/data/trainning/sentence_classification/weapon/stratify_sentences_50_40_10'\n",
    "\n",
    "train_df = '/home/tak/MOJ/src/scripts/sentence_classification/train.csv'\n",
    "test_df = '/home/tak/MOJ/src/scripts/sentence_classification/test.csv'\n",
    "eval_df = '/home/tak/MOJ/src/scripts/sentence_classification/eval.csv'\n",
    "columns = ['CIR_TYPE_WEP', 'CIR_HELD_WAY_WEP', 'CIR_AMMU_AMOUNT_WEP',\n",
    "       'CIR_PURPOSE', 'CIR_STATUS_WEP','CIR_PLANNING',\n",
    "       'CIR_OBTAIN_WAY_WEP', 'CIR_USE']\n",
    "# create new column that if in the columns above there is a value of 1 then the new column will be 1\n",
    "df = pd.read_csv(train_df)\n",
    "df['CIRCUM_OFFENSE'] = df[columns].sum(axis=1)\n",
    "df['CIRCUM_OFFENSE'] = df['CIRCUM_OFFENSE'].apply(lambda x: 1 if x > 0 else 0)\n",
    "train_df = df\n",
    "\n",
    "df = pd.read_csv(test_df)\n",
    "df['CIRCUM_OFFENSE'] = df[columns].sum(axis=1)\n",
    "df['CIRCUM_OFFENSE'] = df['CIRCUM_OFFENSE'].apply(lambda x: 1 if x > 0 else 0)\n",
    "test_df = df\n",
    "\n",
    "df = pd.read_csv(eval_df)\n",
    "df['CIRCUM_OFFENSE'] = df[columns].sum(axis=1)\n",
    "df['CIRCUM_OFFENSE'] = df['CIRCUM_OFFENSE'].apply(lambda x: 1 if x > 0 else 0)\n",
    "eval_df = df\n",
    "\n",
    "# save_path = '/home/tak/MOJ/resources/data/trainning/sentence_classification/drugs/stratify_sentences_50_40_10'\n",
    "\n",
    "# Remove the directory if it exists, then create it\n",
    "if os.path.exists(save_path):\n",
    "    shutil.rmtree(save_path)\n",
    "\n",
    "os.mkdir(save_path)\n",
    "train_pkl = save_dfs_pickle(train_df, save_path, 'train_balance', balance=True)\n",
    "test_pkl = save_dfs_pickle(test_df, save_path, 'test')\n",
    "eval_pkl = save_dfs_pickle(eval_df, save_path, 'eval')\n"
   ]
  },
  {
   "cell_type": "code",
   "execution_count": 157,
   "metadata": {},
   "outputs": [
    {
     "data": {
      "text/plain": [
       "Index(['verdict', 'text', 'reject', 'CONFESSION', 'CIR_TYPE_WEP',\n",
       "       'CIR_HELD_WAY_WEP', 'CIR_AMMU_AMOUNT_WEP', 'CIR_PURPOSE',\n",
       "       'GENERAL_CIRCUM', 'CIR_STATUS_WEP', 'REGRET', 'PUNISHMENT',\n",
       "       'CIR_PLANNING', 'RESPO', 'CIR_OBTAIN_WAY_WEP', 'CIR_USE',\n",
       "       'CIRCUM_OFFENSE'],\n",
       "      dtype='object')"
      ]
     },
     "execution_count": 157,
     "metadata": {},
     "output_type": "execute_result"
    }
   ],
   "source": [
    "train_df.keys()"
   ]
  },
  {
   "cell_type": "code",
   "execution_count": 155,
   "metadata": {},
   "outputs": [
    {
     "ename": "FileNotFoundError",
     "evalue": "[Errno 2] No such file or directory: '/home/tak/MOJ/resources/data/trainning/sentence_classification/weapon/stratify_sentences_50_40_10/eval_label_dataframes.pkl'",
     "output_type": "error",
     "traceback": [
      "\u001b[31m---------------------------------------------------------------------------\u001b[39m",
      "\u001b[31mFileNotFoundError\u001b[39m                         Traceback (most recent call last)",
      "\u001b[36mCell\u001b[39m\u001b[36m \u001b[39m\u001b[32mIn[155]\u001b[39m\u001b[32m, line 3\u001b[39m\n\u001b[32m      1\u001b[39m \u001b[38;5;66;03m# Create a unified DataFrame\u001b[39;00m\n\u001b[32m      2\u001b[39m \u001b[38;5;66;03m#read pickle file\u001b[39;00m\n\u001b[32m----> \u001b[39m\u001b[32m3\u001b[39m eval_pkl = \u001b[43mload_dict_from_pickle\u001b[49m\u001b[43m(\u001b[49m\u001b[33;43m'\u001b[39;49m\u001b[33;43m/home/tak/MOJ/resources/data/trainning/sentence_classification/weapon/stratify_sentences_50_40_10/eval_label_dataframes.pkl\u001b[39;49m\u001b[33;43m'\u001b[39;49m\u001b[43m)\u001b[49m\n\u001b[32m      5\u001b[39m all_texts = pd.DataFrame()\n\u001b[32m      7\u001b[39m \u001b[38;5;66;03m# Go through each key and its DataFrame\u001b[39;00m\n",
      "\u001b[36mCell\u001b[39m\u001b[36m \u001b[39m\u001b[32mIn[152]\u001b[39m\u001b[32m, line 36\u001b[39m, in \u001b[36mload_dict_from_pickle\u001b[39m\u001b[34m(file_name)\u001b[39m\n\u001b[32m     35\u001b[39m \u001b[38;5;28;01mdef\u001b[39;00m\u001b[38;5;250m \u001b[39m\u001b[34mload_dict_from_pickle\u001b[39m(file_name=\u001b[33m'\u001b[39m\u001b[33mlabel_dataframes.pkl\u001b[39m\u001b[33m'\u001b[39m):\n\u001b[32m---> \u001b[39m\u001b[32m36\u001b[39m     \u001b[38;5;28;01mwith\u001b[39;00m \u001b[38;5;28;43mopen\u001b[39;49m\u001b[43m(\u001b[49m\u001b[43mfile_name\u001b[49m\u001b[43m,\u001b[49m\u001b[43m \u001b[49m\u001b[33;43m'\u001b[39;49m\u001b[33;43mrb\u001b[39;49m\u001b[33;43m'\u001b[39;49m\u001b[43m)\u001b[49m \u001b[38;5;28;01mas\u001b[39;00m f:\n\u001b[32m     37\u001b[39m         label_dict = pickle.load(f)\n\u001b[32m     38\u001b[39m     \u001b[38;5;28mprint\u001b[39m(\u001b[33mf\u001b[39m\u001b[33m\"\u001b[39m\u001b[33mDictionary loaded from \u001b[39m\u001b[38;5;132;01m{\u001b[39;00mfile_name\u001b[38;5;132;01m}\u001b[39;00m\u001b[33m\"\u001b[39m)\n",
      "\u001b[36mFile \u001b[39m\u001b[32m~/.conda/envs/tal_env_new/lib/python3.12/site-packages/IPython/core/interactiveshell.py:325\u001b[39m, in \u001b[36m_modified_open\u001b[39m\u001b[34m(file, *args, **kwargs)\u001b[39m\n\u001b[32m    318\u001b[39m \u001b[38;5;28;01mif\u001b[39;00m file \u001b[38;5;129;01min\u001b[39;00m {\u001b[32m0\u001b[39m, \u001b[32m1\u001b[39m, \u001b[32m2\u001b[39m}:\n\u001b[32m    319\u001b[39m     \u001b[38;5;28;01mraise\u001b[39;00m \u001b[38;5;167;01mValueError\u001b[39;00m(\n\u001b[32m    320\u001b[39m         \u001b[33mf\u001b[39m\u001b[33m\"\u001b[39m\u001b[33mIPython won\u001b[39m\u001b[33m'\u001b[39m\u001b[33mt let you open fd=\u001b[39m\u001b[38;5;132;01m{\u001b[39;00mfile\u001b[38;5;132;01m}\u001b[39;00m\u001b[33m by default \u001b[39m\u001b[33m\"\u001b[39m\n\u001b[32m    321\u001b[39m         \u001b[33m\"\u001b[39m\u001b[33mas it is likely to crash IPython. If you know what you are doing, \u001b[39m\u001b[33m\"\u001b[39m\n\u001b[32m    322\u001b[39m         \u001b[33m\"\u001b[39m\u001b[33myou can use builtins\u001b[39m\u001b[33m'\u001b[39m\u001b[33m open.\u001b[39m\u001b[33m\"\u001b[39m\n\u001b[32m    323\u001b[39m     )\n\u001b[32m--> \u001b[39m\u001b[32m325\u001b[39m \u001b[38;5;28;01mreturn\u001b[39;00m \u001b[43mio_open\u001b[49m\u001b[43m(\u001b[49m\u001b[43mfile\u001b[49m\u001b[43m,\u001b[49m\u001b[43m \u001b[49m\u001b[43m*\u001b[49m\u001b[43margs\u001b[49m\u001b[43m,\u001b[49m\u001b[43m \u001b[49m\u001b[43m*\u001b[49m\u001b[43m*\u001b[49m\u001b[43mkwargs\u001b[49m\u001b[43m)\u001b[49m\n",
      "\u001b[31mFileNotFoundError\u001b[39m: [Errno 2] No such file or directory: '/home/tak/MOJ/resources/data/trainning/sentence_classification/weapon/stratify_sentences_50_40_10/eval_label_dataframes.pkl'"
     ]
    }
   ],
   "source": [
    "# Create a unified DataFrame\n",
    "#read pickle file\n",
    "eval_pkl = load_dict_from_pickle('/home/tak/MOJ/resources/data/trainning/sentence_classification/weapon/stratify_sentences_50_40_10/eval_label_dataframes.pkl')\n",
    "\n",
    "all_texts = pd.DataFrame()\n",
    "\n",
    "# Go through each key and its DataFrame\n",
    "for key, df in eval_pkl.items():\n",
    "    # Ensure 'text' column is present\n",
    "    if 'text' not in df or 'label' not in df:\n",
    "        continue\n",
    "    \n",
    "    # Rename label column to current key\n",
    "    df = df[['text', 'label']].copy()\n",
    "    df = df.rename(columns={'label': key})\n",
    "    \n",
    "    # Merge on 'text'\n",
    "    if all_texts.empty:\n",
    "        all_texts = df\n",
    "    else:\n",
    "        all_texts = pd.merge(all_texts, df, on='text', how='outer')\n",
    "\n",
    "# Fill NaN values with 0 (indicating absence of the label)\n",
    "all_texts.fillna(0, inplace=True)\n",
    "\n",
    "# Convert all label columns to integers\n",
    "label_columns = [col for col in all_texts.columns if col != 'text']\n",
    "all_texts[label_columns] = all_texts[label_columns].astype(int)\n"
   ]
  },
  {
   "cell_type": "code",
   "execution_count": 160,
   "metadata": {},
   "outputs": [
    {
     "data": {
      "text/plain": [
       "47"
      ]
     },
     "execution_count": 160,
     "metadata": {},
     "output_type": "execute_result"
    }
   ],
   "source": [
    "eval_df['CIRCUM_OFFENSE'].sum()"
   ]
  },
  {
   "cell_type": "code",
   "execution_count": 48,
   "metadata": {},
   "outputs": [],
   "source": [
    "label_columns = ['text', 'reject', 'CIR_PUNISHMENT', 'CONFESSION', 'CIR_TYPE',\n",
    "       'CIR_ROLE', 'GENERAL_CIRCUM', 'CIR_AMOUNT', 'REGRET', 'RESPO', 'CIR_EQ',\n",
    "       'CIRCUM_OFFENSE']"
   ]
  },
  {
   "cell_type": "code",
   "execution_count": 116,
   "metadata": {},
   "outputs": [],
   "source": [
    "columns = ['CIR_TYPE_WEP', 'CIR_HELD_WAY_WEP', 'CIR_AMMU_AMOUNT_WEP',\n",
    "       'CIR_PURPOSE', 'CIR_STATUS_WEP','CIR_PLANNING',\n",
    "       'CIR_OBTAIN_WAY_WEP', 'CIR_USE']"
   ]
  },
  {
   "cell_type": "code",
   "execution_count": 130,
   "metadata": {},
   "outputs": [],
   "source": [
    "all_texts['CIRCUM_OFFENSE'] = all_texts[columns].sum(axis=1)\n",
    "all_texts['CIRCUM_OFFENSE'] = all_texts['CIRCUM_OFFENSE'].apply(lambda x: 1 if x > 0 else 0)\n",
    "eval_pkl = all_texts"
   ]
  },
  {
   "cell_type": "code",
   "execution_count": 154,
   "metadata": {},
   "outputs": [
    {
     "data": {
      "text/plain": [
       "text     ע\"י ב\"כ עוה\"ד אבירי – פמ\"מביום 11.5.12 בעיר רח...\n",
       "label                                                  320\n",
       "dtype: object"
      ]
     },
     "execution_count": 154,
     "metadata": {},
     "output_type": "execute_result"
    }
   ],
   "source": [
    "train_pkl['CIRCUM_OFFENSE'].sum()"
   ]
  },
  {
   "cell_type": "code",
   "execution_count": 46,
   "metadata": {},
   "outputs": [
    {
     "data": {
      "text/plain": [
       "3"
      ]
     },
     "execution_count": 46,
     "metadata": {},
     "output_type": "execute_result"
    }
   ],
   "source": [
    "all_texts['CIR_EQ'].sum()"
   ]
  },
  {
   "cell_type": "code",
   "execution_count": 142,
   "metadata": {},
   "outputs": [
    {
     "name": "stdout",
     "output_type": "stream",
     "text": [
      "189\n"
     ]
    }
   ],
   "source": [
    "print(test_pkl['CIRCUM_OFFENSE'].sum())\n",
    "test_df = test_pkl"
   ]
  },
  {
   "cell_type": "code",
   "execution_count": 140,
   "metadata": {},
   "outputs": [
    {
     "name": "stdout",
     "output_type": "stream",
     "text": [
      "text     ע\"י ב\"כ עוה\"ד אבירי – פמ\"מביום 11.5.12 בעיר רח...\n",
      "label                                                  320\n",
      "dtype: object\n"
     ]
    }
   ],
   "source": [
    "print(train_pkl['CIRCUM_OFFENSE'].sum())\n",
    "train_df = train_pkl"
   ]
  },
  {
   "cell_type": "code",
   "execution_count": 145,
   "metadata": {},
   "outputs": [
    {
     "data": {
      "text/plain": [
       "dict_keys(['reject', 'CONFESSION', 'CIR_TYPE_WEP', 'CIR_HELD_WAY_WEP', 'CIR_AMMU_AMOUNT_WEP', 'CIR_PURPOSE', 'GENERAL_CIRCUM', 'CIR_STATUS_WEP', 'REGRET', 'PUNISHMENT', 'CIR_PLANNING', 'RESPO', 'CIR_OBTAIN_WAY_WEP', 'CIR_USE', 'CIRCUM_OFFENSE'])"
      ]
     },
     "execution_count": 145,
     "metadata": {},
     "output_type": "execute_result"
    }
   ],
   "source": [
    "train_df.keys()"
   ]
  },
  {
   "cell_type": "code",
   "execution_count": 141,
   "metadata": {},
   "outputs": [
    {
     "name": "stdout",
     "output_type": "stream",
     "text": [
      "47\n"
     ]
    }
   ],
   "source": [
    "print(eval_pkl['CIRCUM_OFFENSE'].sum())\n",
    "eval_df = eval_pkl"
   ]
  },
  {
   "cell_type": "code",
   "execution_count": 165,
   "metadata": {},
   "outputs": [
    {
     "name": "stdout",
     "output_type": "stream",
     "text": [
      "Dictionary loaded from /home/tak/MOJ/resources/data/trainning/sentence_classification/drugs/stratify_sentences_50_40_10/test_label_dataframes.pkl\n"
     ]
    },
    {
     "data": {
      "text/plain": [
       "74"
      ]
     },
     "execution_count": 165,
     "metadata": {},
     "output_type": "execute_result"
    }
   ],
   "source": [
    "#read pickle file\n",
    "train_pkl = load_dict_from_pickle('/home/tak/MOJ/resources/data/trainning/sentence_classification/drugs/stratify_sentences_50_40_10/test_label_dataframes.pkl')\n",
    "train_pkl['CIRCUM_OFFENSE']['label'].sum()\n"
   ]
  },
  {
   "cell_type": "code",
   "execution_count": null,
   "metadata": {},
   "outputs": [],
   "source": []
  }
 ],
 "metadata": {
  "kernelspec": {
   "display_name": "tal_env_new",
   "language": "python",
   "name": "python3"
  },
  "language_info": {
   "codemirror_mode": {
    "name": "ipython",
    "version": 3
   },
   "file_extension": ".py",
   "mimetype": "text/x-python",
   "name": "python",
   "nbconvert_exporter": "python",
   "pygments_lexer": "ipython3",
   "version": "3.12.9"
  },
  "orig_nbformat": 4
 },
 "nbformat": 4,
 "nbformat_minor": 2
}
