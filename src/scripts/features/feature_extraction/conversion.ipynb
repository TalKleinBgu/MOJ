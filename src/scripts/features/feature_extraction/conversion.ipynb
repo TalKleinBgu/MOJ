{
 "cells": [
  {
   "cell_type": "code",
   "execution_count": 2,
   "metadata": {},
   "outputs": [],
   "source": [
    "import pandas as pd"
   ]
  },
  {
   "cell_type": "code",
   "execution_count": 13,
   "metadata": {},
   "outputs": [
    {
     "data": {
      "text/html": [
       "<div>\n",
       "<style scoped>\n",
       "    .dataframe tbody tr th:only-of-type {\n",
       "        vertical-align: middle;\n",
       "    }\n",
       "\n",
       "    .dataframe tbody tr th {\n",
       "        vertical-align: top;\n",
       "    }\n",
       "\n",
       "    .dataframe thead th {\n",
       "        text-align: right;\n",
       "    }\n",
       "</style>\n",
       "<table border=\"1\" class=\"dataframe\">\n",
       "  <thead>\n",
       "    <tr style=\"text-align: right;\">\n",
       "      <th></th>\n",
       "      <th>feature_key</th>\n",
       "      <th>text</th>\n",
       "      <th>extraction</th>\n",
       "    </tr>\n",
       "  </thead>\n",
       "  <tbody>\n",
       "    <tr>\n",
       "      <th>0</th>\n",
       "      <td>TYPE_WEP</td>\n",
       "      <td>כתוצאה ממעשיו של הנאשם התפוצץ המטען וגרם נזק ל...</td>\n",
       "      <td>['מטען חבלה מאולתר']</td>\n",
       "    </tr>\n",
       "    <tr>\n",
       "      <th>1</th>\n",
       "      <td>TYPE_WEP</td>\n",
       "      <td>הנאשם ייצר מטען חבלה שתוכנן כך שיגרום למות אדם...</td>\n",
       "      <td>['מטען חבלה']</td>\n",
       "    </tr>\n",
       "  </tbody>\n",
       "</table>\n",
       "</div>"
      ],
      "text/plain": [
       "  feature_key                                               text  \\\n",
       "0    TYPE_WEP  כתוצאה ממעשיו של הנאשם התפוצץ המטען וגרם נזק ל...   \n",
       "1    TYPE_WEP  הנאשם ייצר מטען חבלה שתוכנן כך שיגרום למות אדם...   \n",
       "\n",
       "             extraction  \n",
       "0  ['מטען חבלה מאולתר']  \n",
       "1         ['מטען חבלה']  "
      ]
     },
     "execution_count": 13,
     "metadata": {},
     "output_type": "execute_result"
    }
   ],
   "source": [
    "fe_df_path = '/home/ezradin/pred-sentencing/results/evaluations/feature_extraction/claues_fe/claude_qa_features.csv'\n",
    "fe_df = pd.read_csv(fe_df_path)\n",
    "fe_df.head(2)"
   ]
  },
  {
   "cell_type": "code",
   "execution_count": 4,
   "metadata": {},
   "outputs": [],
   "source": [
    "import json\n",
    "import os\n",
    "\n",
    "\n",
    "def save_json(content, path):\n",
    "    with open(path, \"w\") as f:\n",
    "        json.dump(content, f)\n",
    "        \n",
    "sentence_case_dict = {}\n",
    "db_path = '/home/ezradin/pred-sentencing/results/db/2017'\n",
    "\n",
    "for case_dir in os.listdir(db_path):\n",
    "    preproc_df = pd.read_csv(os.path.join(db_path, case_dir, 'sentence_tagging.csv'))\n",
    "    for i, row in preproc_df.iterrows():\n",
    "        if row['reject'] == 1: \n",
    "            continue\n",
    "\n",
    "        sentence_case_dict[row['text']] = case_dir\n",
    "save_json(sentence_case_dict, '/home/ezradin/pred-sentencing/resources/appendices/sentence_case_dict.json')"
   ]
  },
  {
   "cell_type": "code",
   "execution_count": 14,
   "metadata": {},
   "outputs": [],
   "source": [
    "verdicts = []\n",
    "for i,row in fe_df.iterrows():\n",
    "    try:\n",
    "        verdicts.append(sentence_case_dict[row['text']])\n",
    "    except:\n",
    "        verdicts.append(None)\n",
    "    \n",
    "fe_df['verdict'] = verdicts\n",
    "fe_df.to_csv(fe_df_path)        "
   ]
  }
 ],
 "metadata": {
  "kernelspec": {
   "display_name": "trans_up",
   "language": "python",
   "name": "python3"
  },
  "language_info": {
   "codemirror_mode": {
    "name": "ipython",
    "version": 3
   },
   "file_extension": ".py",
   "mimetype": "text/x-python",
   "name": "python",
   "nbconvert_exporter": "python",
   "pygments_lexer": "ipython3",
   "version": "3.10.14"
  },
  "orig_nbformat": 4
 },
 "nbformat": 4,
 "nbformat_minor": 2
}
