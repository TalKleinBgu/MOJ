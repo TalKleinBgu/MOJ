{
 "cells": [
  {
   "cell_type": "code",
   "execution_count": 2,
   "metadata": {},
   "outputs": [],
   "source": [
    "import pandas as pd\n",
    "import sys"
   ]
  },
  {
   "cell_type": "code",
   "execution_count": 27,
   "metadata": {},
   "outputs": [
    {
     "data": {
      "text/html": [
       "<div>\n",
       "<style scoped>\n",
       "    .dataframe tbody tr th:only-of-type {\n",
       "        vertical-align: middle;\n",
       "    }\n",
       "\n",
       "    .dataframe tbody tr th {\n",
       "        vertical-align: top;\n",
       "    }\n",
       "\n",
       "    .dataframe thead th {\n",
       "        text-align: right;\n",
       "    }\n",
       "</style>\n",
       "<table border=\"1\" class=\"dataframe\">\n",
       "  <thead>\n",
       "    <tr style=\"text-align: right;\">\n",
       "      <th></th>\n",
       "      <th>Unnamed: 0</th>\n",
       "      <th>verdict</th>\n",
       "      <th>text</th>\n",
       "      <th>reject</th>\n",
       "      <th>CONFESSION</th>\n",
       "      <th>CIR_TYPE_WEP</th>\n",
       "      <th>_HELD_WAY_WEP</th>\n",
       "      <th>CIR_AMMU_AMOUNT_WEP</th>\n",
       "      <th>CIR_PURPOSE</th>\n",
       "      <th>GENERAL_CIRCUM</th>\n",
       "      <th>CIR_STATUS_WEP</th>\n",
       "      <th>REGRET</th>\n",
       "      <th>PUNISHMENT</th>\n",
       "      <th>CIRCUM_OFFENSE</th>\n",
       "      <th>CIR_PLANNING</th>\n",
       "      <th>RESPO</th>\n",
       "      <th>CIR_OBTAIN_WAY_WEP</th>\n",
       "      <th>CIR_USE</th>\n",
       "      <th>CIR_BUYER_ID_WEP</th>\n",
       "      <th>CIR_MONEY_PAID_WEP</th>\n",
       "    </tr>\n",
       "  </thead>\n",
       "  <tbody>\n",
       "    <tr>\n",
       "      <th>0</th>\n",
       "      <td>1</td>\n",
       "      <td>ME-12-05-33444-999_tagged</td>\n",
       "      <td>ע\"י ב\"כ עוה\"ד אבירי – פמ\"מ</td>\n",
       "      <td>1</td>\n",
       "      <td>0</td>\n",
       "      <td>0</td>\n",
       "      <td>0</td>\n",
       "      <td>0</td>\n",
       "      <td>0</td>\n",
       "      <td>0</td>\n",
       "      <td>0</td>\n",
       "      <td>0</td>\n",
       "      <td>0</td>\n",
       "      <td>0.0</td>\n",
       "      <td>0</td>\n",
       "      <td>0</td>\n",
       "      <td>0</td>\n",
       "      <td>0.0</td>\n",
       "      <td>NaN</td>\n",
       "      <td>NaN</td>\n",
       "    </tr>\n",
       "    <tr>\n",
       "      <th>1</th>\n",
       "      <td>2</td>\n",
       "      <td>ME-12-05-33444-999_tagged</td>\n",
       "      <td>ע\"י ב\"כ עוה\"ד פורר</td>\n",
       "      <td>1</td>\n",
       "      <td>0</td>\n",
       "      <td>0</td>\n",
       "      <td>0</td>\n",
       "      <td>0</td>\n",
       "      <td>0</td>\n",
       "      <td>0</td>\n",
       "      <td>0</td>\n",
       "      <td>0</td>\n",
       "      <td>0</td>\n",
       "      <td>0.0</td>\n",
       "      <td>0</td>\n",
       "      <td>0</td>\n",
       "      <td>0</td>\n",
       "      <td>0.0</td>\n",
       "      <td>NaN</td>\n",
       "      <td>NaN</td>\n",
       "    </tr>\n",
       "  </tbody>\n",
       "</table>\n",
       "</div>"
      ],
      "text/plain": [
       "   Unnamed: 0                    verdict                        text  reject  \\\n",
       "0           1  ME-12-05-33444-999_tagged  ע\"י ב\"כ עוה\"ד אבירי – פמ\"מ       1   \n",
       "1           2  ME-12-05-33444-999_tagged          ע\"י ב\"כ עוה\"ד פורר       1   \n",
       "\n",
       "   CONFESSION  CIR_TYPE_WEP  _HELD_WAY_WEP  CIR_AMMU_AMOUNT_WEP  CIR_PURPOSE  \\\n",
       "0           0             0              0                    0            0   \n",
       "1           0             0              0                    0            0   \n",
       "\n",
       "   GENERAL_CIRCUM  CIR_STATUS_WEP  REGRET  PUNISHMENT  CIRCUM_OFFENSE  \\\n",
       "0               0               0       0           0             0.0   \n",
       "1               0               0       0           0             0.0   \n",
       "\n",
       "   CIR_PLANNING  RESPO  CIR_OBTAIN_WAY_WEP  CIR_USE  CIR_BUYER_ID_WEP  \\\n",
       "0             0      0                   0      0.0               NaN   \n",
       "1             0      0                   0      0.0               NaN   \n",
       "\n",
       "   CIR_MONEY_PAID_WEP  \n",
       "0                 NaN  \n",
       "1                 NaN  "
      ]
     },
     "execution_count": 27,
     "metadata": {},
     "output_type": "execute_result"
    }
   ],
   "source": [
    "setence_tagged_file = pd.read_excel('/home/ezradin/pred-sentencing/resources/data/tagging/gt/sentence_tagging.xlsx')\n",
    "setence_tagged_file.head(2)"
   ]
  },
  {
   "cell_type": "code",
   "execution_count": 28,
   "metadata": {},
   "outputs": [],
   "source": [
    "cir_offence_col= ['CIR_MONEY_PAID_WEP',\n",
    "'CIR_USE',\n",
    "'CIR_OBTAIN_WAY_WEP',\n",
    "'CIR_PLANNING',\n",
    "'CIR_STATUS_WEP',\n",
    "'CIR_AMMU_AMOUNT_WEP',\n",
    "'CIR_PURPOSE',\n",
    "'_HELD_WAY_WEP',\n",
    "'CIR_TYPE_WEP',]"
   ]
  },
  {
   "cell_type": "code",
   "execution_count": 30,
   "metadata": {},
   "outputs": [],
   "source": [
    "new_cir_offence_col = []\n",
    "for i,row in setence_tagged_file.iterrows():\n",
    "    cir_offence_val = 0\n",
    "    for col in cir_offence_col:\n",
    "        if setence_tagged_file[col][i] == 1:\n",
    "            cir_offence_val = 1\n",
    "            break\n",
    "        \n",
    "    new_cir_offence_col.append(cir_offence_val)\n",
    "    \n",
    "setence_tagged_file['CIRCUM_OFFENSE'] = new_cir_offence_col"
   ]
  },
  {
   "cell_type": "code",
   "execution_count": 34,
   "metadata": {},
   "outputs": [],
   "source": [
    "setence_tagged_file.rename(columns={'_HELD_WAY_WEP':'CIR_HELD_WAY_WEP'}, inplace=True)"
   ]
  },
  {
   "cell_type": "code",
   "execution_count": 37,
   "metadata": {},
   "outputs": [],
   "source": [
    "setence_tagged_file.to_csv('/home/ezradin/pred-sentencing/resources/data/tagging/gt/sentence_tagging.csv')"
   ]
  }
 ],
 "metadata": {
  "kernelspec": {
   "display_name": "trans_up",
   "language": "python",
   "name": "python3"
  },
  "language_info": {
   "codemirror_mode": {
    "name": "ipython",
    "version": 3
   },
   "file_extension": ".py",
   "mimetype": "text/x-python",
   "name": "python",
   "nbconvert_exporter": "python",
   "pygments_lexer": "ipython3",
   "version": "3.10.14"
  },
  "orig_nbformat": 4
 },
 "nbformat": 4,
 "nbformat_minor": 2
}
